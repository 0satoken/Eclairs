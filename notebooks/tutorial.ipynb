{
 "cells": [
  {
   "cell_type": "markdown",
   "metadata": {},
   "source": [
    "# Tutorial\n",
    "In this notebook, I review basic usage of our python wrapper.  "
   ]
  },
  {
   "cell_type": "markdown",
   "metadata": {},
   "source": [
    "## Compile python wrapper\n",
    "First of all, you need to install the python wrapper `pyecl`.\n",
    "`Eclairs` needs C++ compiler, GSL, and Boost library.\n",
    "Please make sure that yout Boost library has numpy extension since older versions of Boost do not include it.  \n",
    "After specifying paths for these libarary in Makefile, codes can be built with `make`.\n",
    "\n",
    "```\n",
    "$ make pyeclairs\n",
    "```\n",
    "\n",
    "`pip` tries to install the wrapper and then, you can run following scripts."
   ]
  },
  {
   "cell_type": "markdown",
   "metadata": {},
   "source": [
    "## Computing matter power spectra based on RegPT 2loop\n",
    "The basic feature of this code is computing matter power spectra. \n",
    "Though Eisenstein-Hu fitting formula is available, the transfer function can be passed from a precomputed table or numpy array computed with other codes, e.g., CAMB or CLASS.  \n",
    "Here, I use `CLASS` module to compute the transfer function."
   ]
  },
  {
   "cell_type": "code",
   "execution_count": 1,
   "metadata": {},
   "outputs": [
    {
     "name": "stderr",
     "output_type": "stream",
     "text": [
      "<frozen importlib._bootstrap>:241: RuntimeWarning: to-Python converter for pyeclairs already registered; second conversion method ignored.\n"
     ]
    }
   ],
   "source": [
    "import numpy as np\n",
    "from classy import Class\n",
    "import pyecl.pyeclairs as pyecl"
   ]
  },
  {
   "cell_type": "markdown",
   "metadata": {},
   "source": [
    "Set cosmological parameters."
   ]
  },
  {
   "cell_type": "code",
   "execution_count": 2,
   "metadata": {},
   "outputs": [],
   "source": [
    "# Planck 2015 cosmological parameters\n",
    "\n",
    "h = 0.6727\n",
    "omega_b = 0.02225\n",
    "omega_cdm = 0.1198\n",
    "n_s = 0.9645\n",
    "A_s = 2.2065e-9\n",
    "k_pivot = 0.05\n",
    "z = 1.0"
   ]
  },
  {
   "cell_type": "code",
   "execution_count": 3,
   "metadata": {},
   "outputs": [],
   "source": [
    "params_C = {\"output\": \"mPk, mTk\",\n",
    "            \"h\": h,\n",
    "            \"omega_cdm\": omega_cdm,\n",
    "            \"omega_b\": omega_b,\n",
    "            \"n_s\": n_s,\n",
    "            \"A_s\": A_s,\n",
    "            \"z_pk\": z,\n",
    "            'm_ncdm': 0.06,\n",
    "            'YHe': 'BBN',\n",
    "            'k_pivot': k_pivot,\n",
    "            'k_scalar_min_tau0': 1e-05,\n",
    "            'P_k_max_h/Mpc': 50.0,\n",
    "            'N_ncdm': 1,\n",
    "            'T_ncdm': 0.715985,\n",
    "            'N_eff': 2.03351}\n",
    "\n",
    "cosmo = Class()\n",
    "cosmo.set(params_C)\n",
    "cosmo.compute()\n",
    "\n",
    "Omega_m = cosmo.Omega_m()\n",
    "Omega_b = omega_b/(h*h)\n",
    "H0 = 100.0*h\n",
    "\n",
    "transfer = cosmo.get_transfer(0.0, \"camb\")\n",
    "q = transfer[\"k (h/Mpc)\"]\n",
    "Tk = transfer[\"-T_tot/k2\"]"
   ]
  },
  {
   "cell_type": "markdown",
   "metadata": {},
   "source": [
    "Then, set the parameters for `pyecl`. In this example, we will compute the matter power spectrum based on RegPT 2-loop with the direct integration."
   ]
  },
  {
   "cell_type": "code",
   "execution_count": 4,
   "metadata": {},
   "outputs": [
    {
     "name": "stdout",
     "output_type": "stream",
     "text": [
      "-> showing parameters\n",
      "H0 = 67.27\n",
      "Omega_m = 0.315328\n",
      "Omega_b = 0.0491685\n",
      "Omega_k = 0\n",
      "ns = 0.9645\n",
      "As = 2.2065e-09\n",
      "w_de = -1\n",
      "k_pivot = 0.05\n",
      "m_nu = 0.06\n",
      "z = 1\n",
      "transfer_EH = True\n",
      "transfer_from_file = False\n",
      "transfer_file_name = \n",
      "lambda_power = 2\n",
      "lambda_bispectrum = 6\n",
      "free_sigma_d = False\n",
      "sigma_d = 3\n",
      "b1 = 1\n",
      "b2 = 0\n",
      "bs2 = 0\n",
      "b3nl = 0\n",
      "N_shot = 0\n",
      "sigma_v = 0\n",
      "use_sigma_vlin = False\n",
      "alpha_perp = 1\n",
      "alpha_para = 1\n",
      "rs_drag_ratio = 1\n",
      "AP = False\n",
      "FoG_type = Lorentzian\n",
      "gamma = 2\n",
      "multipole_nmu = 50\n",
      "grid_L = 2048\n",
      "grid_ng = 256\n",
      "kmin = 0.0005\n",
      "kmax = 10\n",
      "nint = 500\n",
      "nk_G1_1 = 2000\n",
      "nk_G1_2 = 500\n",
      "nk_G2_1 = 100\n",
      "nx_Pcorr2 = 200\n",
      "nmu_Pcorr2 = 10\n",
      "MC_calls = 500000\n",
      "MC_tol = 0.5\n",
      "output = False\n",
      "output_model = RegPT\n",
      "output_1loop = False\n",
      "output_file_name = output.dat\n",
      "output_spacing = linear\n",
      "output_kmin = 0.01\n",
      "output_kmax = 0.5\n",
      "output_nk = 10\n",
      "direct_mode = True\n",
      "nk_spl = 1000\n",
      "direct_nr = 600\n",
      "direct_nx = 10\n",
      "direct_nq = 400\n",
      "direct_nmu = 50\n",
      "direct_nphi = 50\n",
      "direct_mumin = -0.999\n",
      "direct_mumax = 0.999\n",
      "direct_phimin = 0.00628319\n",
      "direct_phimax = 6.2769\n",
      "direct_MC = True\n",
      "direct_MC_calls = 500000\n",
      "direct_MC_tol = 0.5\n",
      "direct_SPT = False\n",
      "direct_1loop = False\n",
      "direct_spline = False\n",
      "fast_mode = False\n",
      "fast_qmin = 0.0005\n",
      "fast_qmax = 10\n",
      "fast_nq = 200\n",
      "fast_mumin = -0.999\n",
      "fast_mumax = 0.999\n",
      "fast_nmu = 50\n",
      "fast_phimin = 0.00628319\n",
      "fast_phimax = 6.2769\n",
      "fast_nphi = 50\n",
      "fast_nr = 600\n",
      "fast_nx = 10\n",
      "fast_nkb = 50\n",
      "fast_direct_Bterm = False\n",
      "fast_SPT = False\n",
      "fast_fidmodels_dir = kernel_data\n",
      "fast_fidmodels_config = config.dat\n",
      "fast_fidmodels_k1min = 0.01\n",
      "fast_fidmodels_k1max = 1\n",
      "fast_fidmodels_nk1 = 20\n",
      "fast_fidmodels_k2min = 0.15\n",
      "fast_fidmodels_k2max = 1\n",
      "fast_fidmodels_nk2 = 20\n",
      "kernel_root = kernel_data\n",
      "kernel_k_from_file = False\n",
      "kernel_k_file_name = kernel_k.dat\n",
      "kernel_k_spacing = log\n",
      "kernel_k_kmin = 0.001\n",
      "kernel_k_kmax = 1\n",
      "kernel_k_nk = 120\n",
      "kernel_K_Kmin = 0.001\n",
      "kernel_K_Kmax = 0.6\n",
      "kernel_K_nK = 100\n",
      "smooth_nk = 500\n",
      "smooth_kmin = 1e-06\n",
      "smooth_kmax = 50\n",
      "smooth_lambda = 0.25\n",
      "IREFT_mode = False\n",
      "IREFT_c0 = 0\n",
      "IREFT_c2 = 0\n",
      "IREFT_c4 = 0\n",
      "IREFT_cd4 = 0\n",
      "IREFT_Pshot = 0\n",
      "IREFT_kS = 0.2\n",
      "IREFT_kM = 0\n",
      "IREFT_rs = 110\n",
      "IREFT_nr = 600\n",
      "IREFT_nx = 50\n",
      "IREFT_nq = 200\n",
      "IREFT_nmu = 50\n",
      "bias_higher_order = False\n",
      "bias_local_Lagrangian_bias = False\n",
      "bias_spline = True\n",
      "bias_nr = 600\n",
      "bias_nx = 50\n",
      "verbose = False\n",
      "\n",
      "[NOTE] Direct mode\n"
     ]
    }
   ],
   "source": [
    "params_E = {\"H0\": H0,\n",
    "            \"Omega_m\": Omega_m,\n",
    "            \"Omega_b\": Omega_b,\n",
    "            \"ns\": n_s,\n",
    "            \"As\": A_s,\n",
    "            \"k_pivot\": k_pivot,\n",
    "            \"z\": z,\n",
    "            \"output\": False,\n",
    "            \"direct_mode\": True\n",
    "            }\n",
    "\n",
    "Pyeclairs = pyecl.pyeclairs()\n",
    "Pyeclairs.initialize(params_E, q, Tk)"
   ]
  },
  {
   "cell_type": "markdown",
   "metadata": {},
   "source": [
    "Next, we compute the power spectra. The first argument `k` is the wave-numbers at which power spectra are computed. The second argument specifies density-auto `dd`, density-velocity cross `dt`, and velocity-auto `tt`. The third argument is the model you want to use, i.e. `RegPT` or `SPT`."
   ]
  },
  {
   "cell_type": "code",
   "execution_count": 5,
   "metadata": {},
   "outputs": [
    {
     "name": "stdout",
     "output_type": "stream",
     "text": [
      "{'dd': array([8438.91041525, 9134.9892377 , 9381.41408838, 9298.85125282,\n",
      "       8985.42863344, 8523.52294408, 7980.53085788, 7409.7117303 ,\n",
      "       6849.42044133, 6330.50541888, 5865.04748611, 5461.41748652,\n",
      "       5121.97567588, 4840.39670855, 4609.0548133 , 4418.00533637,\n",
      "       4255.80291999, 4112.77988736, 3979.50768902, 3846.92114699,\n",
      "       3710.67126867, 3566.13770801, 3413.02613746, 3251.72331983,\n",
      "       3085.38963165, 2917.15979623, 2752.13640864, 2593.11317036,\n",
      "       2445.45556373, 2309.80035873, 2189.55815415, 2084.901379  ,\n",
      "       1994.74539205, 1919.49109939, 1855.99059303, 1802.49346641,\n",
      "       1757.54298178, 1717.09440343, 1679.35728289, 1643.1574341 ,\n",
      "       1605.72692404, 1565.38279538, 1522.97417203, 1478.37248443,\n",
      "       1429.51697516, 1379.41212053, 1329.25813695, 1279.53021877,\n",
      "       1229.90626908, 1183.23628727, 1140.31181031, 1101.30722837,\n",
      "       1064.82636909, 1032.85938264, 1004.99925574,  981.04629036,\n",
      "        958.8054763 ,  938.84886311,  920.9710753 ,  904.47094935,\n",
      "        888.64853736,  871.93070295,  854.83431538,  837.79793646,\n",
      "        820.12952173,  802.09759392,  782.63539284,  763.04609868,\n",
      "        743.70905931,  724.72104987,  706.61006871,  688.84182913,\n",
      "        671.5171704 ,  655.35207447,  640.40721725,  626.61792268,\n",
      "        614.00477289,  601.76395971,  590.07716499,  579.22040666,\n",
      "        568.87262618,  559.00073324,  549.53635199,  540.13398402,\n",
      "        530.14412102,  520.21878295,  510.44956787,  500.61104555,\n",
      "        491.06918427,  481.45048503,  471.94935499,  462.07857078,\n",
      "        452.41923251,  443.06737204,  434.00361251,  425.31345196,\n",
      "        417.19210452,  409.30326371,  401.33262077,  393.48388582]), 'dt': array([8432.67707296, 9123.95730196, 9364.74035334, 9276.14271617,\n",
      "       8956.69537673, 8489.07740821, 7940.86734305, 7365.38932773,\n",
      "       6800.97237272, 6278.34267962, 5809.46957231, 5402.57306869,\n",
      "       5059.86561855, 4774.93874556, 4540.10448511, 4345.40773421,\n",
      "       4179.45346055, 4032.64621591, 3895.65045319, 3759.55343259,\n",
      "       3620.10605326, 3472.80405704, 3317.42970899, 3154.39646765,\n",
      "       2986.85792642, 2817.89131576, 2652.5130852 , 2493.43343423,\n",
      "       2345.8165343 , 2210.31113784, 2090.12210273, 1985.3704407 ,\n",
      "       1894.94103827, 1819.15030054, 1754.91959783, 1700.47485783,\n",
      "       1654.38349634, 1612.75235988, 1573.80942259, 1536.44714499,\n",
      "       1497.97730264, 1456.88189194, 1413.90818918, 1369.00554875,\n",
      "       1320.17262411, 1270.32084659, 1220.53246617, 1171.39621625,\n",
      "       1122.53525446, 1076.66261382, 1034.46823012,  996.02139721,\n",
      "        960.26688625,  928.74833611,  901.30799784,  877.52815683,\n",
      "        855.51875582,  835.7144901 ,  817.83293593,  801.26171858,\n",
      "        785.60292168,  768.89501222,  752.21986256,  735.30405114,\n",
      "        718.06258624,  700.53930829,  681.72028569,  662.88956451,\n",
      "        644.35525368,  626.24319878,  608.97811085,  592.01492694,\n",
      "        575.66234866,  560.41020472,  546.36610195,  533.39079054,\n",
      "        521.52245452,  510.14595091,  499.19213986,  489.14610134,\n",
      "        479.57964861,  470.39524555,  461.57263285,  452.98967859,\n",
      "        443.7992935 ,  434.80741082,  425.97238662,  417.07182049,\n",
      "        408.33732437,  399.69351484,  391.29913467,  382.39148486,\n",
      "        373.80860142,  365.57482294,  357.75044682,  350.06645677,\n",
      "        342.90674168,  335.94099441,  328.8996634 ,  322.26107407]), 'tt': array([8426.73285459, 9113.53893074, 9349.13457185, 9255.06960533,\n",
      "       8930.25429342, 8457.64543703, 7904.98177424, 7325.63582192,\n",
      "       6757.89967628, 6232.37114758, 5760.90588071, 5351.57368507,\n",
      "       5006.43984366, 4719.01344148, 4481.54760846, 4284.0714862 ,\n",
      "       4115.23974023, 3965.52398177, 3825.67713428, 3686.93199424,\n",
      "       3545.12553599, 3395.86815918, 3239.01055765, 3074.98847882,\n",
      "       2906.95596003, 2737.91676033, 2572.81208621, 2414.2567326 ,\n",
      "       2267.27039205, 2132.44961223, 2012.83450356, 1908.51119326,\n",
      "       1818.32048915, 1742.48545393, 1678.03412464, 1623.15190995,\n",
      "       1576.42919499, 1534.12621126, 1494.49946783, 1456.41818789,\n",
      "       1417.42119288, 1376.01496692, 1332.86364851, 1287.97188014,\n",
      "       1239.54479423, 1190.30371904, 1141.22494629, 1092.88873417,\n",
      "       1045.06531135, 1000.16522021,  958.87831134,  921.31241053,\n",
      "        886.39587454,  855.589067  ,  828.63271111,  805.29037416,\n",
      "        783.65583188,  764.11078321,  746.4089282 ,  730.13756265,\n",
      "        714.56107583,  698.14442999,  681.76398663,  665.24972827,\n",
      "        648.40421303,  631.41436881,  613.24968393,  595.21725764,\n",
      "        577.54039952,  560.23621732,  543.79170594,  527.68933083,\n",
      "        512.20186261,  497.78036603,  484.54553597,  472.23661275,\n",
      "        461.07940446,  450.40045358,  440.20276891,  430.62947848,\n",
      "        421.6499822 ,  413.13727467,  404.88580645,  396.9185129 ,\n",
      "        388.43313626,  380.0762894 ,  371.9488081 ,  363.74445452,\n",
      "        355.69435943,  347.9209207 ,  340.14299462,  332.04285547,\n",
      "        324.23662588,  316.88617027,  309.72803629,  302.88729342,\n",
      "        296.39214732,  290.24693204,  284.12271744,  277.95252667])}\n"
     ]
    }
   ],
   "source": [
    "# As it may take time, you can reduce the number of k by speeding up.\n",
    "k = np.linspace(0.01, 0.3, 100)\n",
    "res = Pyeclairs.get_spectra_2l(k, [\"dd\", \"dt\", \"tt\"], \"RegPT\")\n",
    "\n",
    "print(res)"
   ]
  },
  {
   "cell_type": "markdown",
   "metadata": {},
   "source": [
    "The computation is done. Let's plot the results with matplotlib."
   ]
  },
  {
   "cell_type": "code",
   "execution_count": 7,
   "metadata": {
    "scrolled": true
   },
   "outputs": [
    {
     "data": {
      "image/png": "[encoded data removed]",
      "text/plain": [
       "<Figure size 640x480 with 1 Axes>"
      ]
     },
     "metadata": {},
     "output_type": "display_data"
    }
   ],
   "source": [
    "%matplotlib inline\n",
    "import matplotlib.pyplot as plt\n",
    "\n",
    "Pnw = Pyeclairs.get_Pnowiggle(k)\n",
    "\n",
    "plt.plot(k, res[\"dd\"]/Pnw, label=r\"$P_{\\delta \\delta} (k)$\")\n",
    "plt.plot(k, res[\"dt\"]/Pnw, label=r\"$P_{\\delta \\theta} (k)$\")\n",
    "plt.plot(k, res[\"tt\"]/Pnw, label=r\"$P_{\\theta \\theta} (k)$\")\n",
    "\n",
    "plt.xlabel(r\"$k \\, [h \\, \\mathrm{Mpc}^{-1}]$\")\n",
    "plt.ylabel(r\"$P^\\mathrm{RegPT} (k) / P_\\mathrm{nw} (k)$\")\n",
    "plt.legend()\n",
    "plt.grid()"
   ]
  }
 ],
 "metadata": {
  "kernelspec": {
   "display_name": "Python 3",
   "language": "python",
   "name": "python3"
  },
  "language_info": {
   "codemirror_mode": {
    "name": "ipython",
    "version": 3
   },
   "file_extension": ".py",
   "mimetype": "text/x-python",
   "name": "python",
   "nbconvert_exporter": "python",
   "pygments_lexer": "ipython3",
   "version": "3.11.6"
  }
 },
 "nbformat": 4,
 "nbformat_minor": 2
}
