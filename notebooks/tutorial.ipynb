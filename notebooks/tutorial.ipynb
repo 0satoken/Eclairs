{
 "cells": [
  {
   "cell_type": "markdown",
   "metadata": {},
   "source": [
    "# Tutorial\n",
    "In this notebook, I review basic usage of our python wrapper.  "
   ]
  },
  {
   "cell_type": "markdown",
   "metadata": {},
   "source": [
    "## Compile python wrapper\n",
    "First of all, you need to install the python wrapper `pyecl`.\n",
    "`Eclairs` needs C++ compiler, GSL, and Boost library.\n",
    "Please make sure that yout Boost library has numpy extension since older versions of Boost do not include it.  \n",
    "After specifying paths for these libarary in Makefile, codes can be built with `make`.\n",
    "\n",
    "```\n",
    "$ make pyeclairs\n",
    "```\n",
    "\n",
    "`pip` tries to install the wrapper and then, you can run following scripts."
   ]
  },
  {
   "cell_type": "markdown",
   "metadata": {},
   "source": [
    "## Computing matter power spectra based on RegPT 2loop\n",
    "The basic feature of this code is computing matter power spectra. \n",
    "Though Eisenstein-Hu fitting formula is available, the transfer function can be passed from a precomputed table or numpy array computed with other codes, e.g., CAMB or CLASS.  \n",
    "Here, I use `CLASS` module to compute the transfer function."
   ]
  },
  {
   "cell_type": "code",
   "execution_count": null,
   "metadata": {},
   "outputs": [],
   "source": [
    "import numpy as np\n",
    "from classy import Class\n",
    "import pyecl.pyeclairs as pyecl"
   ]
  },
  {
   "cell_type": "markdown",
   "metadata": {},
   "source": [
    "Set cosmological parameters."
   ]
  },
  {
   "cell_type": "code",
   "execution_count": null,
   "metadata": {},
   "outputs": [],
   "source": [
    "# Planck 2015 cosmological parameters\n",
    "\n",
    "h = 0.6727\n",
    "omega_b = 0.02225\n",
    "omega_cdm = 0.1198\n",
    "n_s = 0.9645\n",
    "A_s = 2.2065e-9\n",
    "k_pivot = 0.05\n",
    "z = 1.0"
   ]
  },
  {
   "cell_type": "code",
   "execution_count": 2,
   "metadata": {},
   "outputs": [],
   "source": [
    "params_C = {\"output\": \"mPk, mTk\",\n",
    "            \"h\": h,\n",
    "            \"omega_cdm\": omega_cdm,\n",
    "            \"omega_b\": omega_b,\n",
    "            \"n_s\": n_s,\n",
    "            \"A_s\": A_s,\n",
    "            \"z_pk\": z,\n",
    "            'm_ncdm': 0.06,\n",
    "            'YHe': 'BBN',\n",
    "            'k_pivot': k_pivot,\n",
    "            'k_scalar_min_tau0': 1e-05,\n",
    "            'P_k_max_h/Mpc': 50.0,\n",
    "            'N_ncdm': 1,\n",
    "            'T_ncdm': 0.715985,\n",
    "            'N_eff': 2.03351}\n",
    "\n",
    "cosmo = Class()\n",
    "cosmo.set(params_C)\n",
    "cosmo.compute()\n",
    "\n",
    "transfer = cosmo.get_transfer(0.0, \"camb\")\n",
    "q = transfer[\"k (h/Mpc)\"]\n",
    "Tk = transfer[\"-T_tot/k2\"]"
   ]
  },
  {
   "cell_type": "markdown",
   "metadata": {},
   "source": [
    "Then, set the parameters for `pyecl`. In this example, we will compute the matter power spectrum based on RegPT 2-loop with the direct integration."
   ]
  },
  {
   "cell_type": "code",
   "execution_count": null,
   "metadata": {},
   "outputs": [],
   "source": [
    "params_E = {\"H0\": H0,\n",
    "            \"Omega_m\": Omega_m,\n",
    "            \"Omega_b\": Omega_b,\n",
    "            \"ns\": n_s,\n",
    "            \"As\": A_s,\n",
    "            \"k_pivot\": k_pivot,\n",
    "            \"z\": z,\n",
    "            \"output\": False,\n",
    "            \"direct_mode\": True\n",
    "            }\n",
    "\n",
    "Pyeclairs = pyecl.pyeclairs()\n",
    "Pyeclairs.initialize(params_E, q, Tk)"
   ]
  },
  {
   "cell_type": "markdown",
   "metadata": {},
   "source": [
    "Next, we compute the power spectra. The first argument `k` is the wave-numbers at which power spectra are computed. The second argument specifies density-auto `dd`, density-velocity cross `dt`, and velocity-auto `tt`. The third argument is the model you want to use, i.e. `RegPT` or `SPT`."
   ]
  },
  {
   "cell_type": "code",
   "execution_count": 6,
   "metadata": {},
   "outputs": [
    {
     "name": "stdout",
     "output_type": "stream",
     "text": [
      "[0.01 0.02 0.03 0.04 0.05 0.06 0.07 0.08 0.09 0.1  0.11 0.12 0.13 0.14\n",
      " 0.15 0.16 0.17 0.18 0.19 0.2  0.21 0.22 0.23 0.24 0.25 0.26 0.27 0.28\n",
      " 0.29 0.3 ] [8370.53301717 9148.22482941 7494.65397333 5763.95189106 4688.30742112\n",
      " 4107.52877961 3649.33574558 3111.43204449 2554.53899751 2120.78917718\n",
      " 1854.86677267 1704.15075428 1574.18299082 1417.57910378 1247.61099714\n",
      " 1099.79606091  995.33498175  925.58340503  868.92301217  809.60885821\n",
      "  743.4250724   681.5876298   629.69002623  588.50611162  554.08281002\n",
      "  520.61663791  487.34961521  454.19822006  423.97506436  396.54285879]\n"
     ]
    }
   ],
   "source": [
    "# As it may take time, you can reduce the number of k by speeding up.\n",
    "k = np.linspace(0.01, 0.3, 30)\n",
    "res = pyecl.get_spectra_2l(k, [\"dd\", \"dt\", \"tt\"], \"RegPT\")\n",
    "\n",
    "print(res)"
   ]
  },
  {
   "cell_type": "markdown",
   "metadata": {},
   "source": [
    "The computation is done. Let's plot the results with matplotlib."
   ]
  },
  {
   "cell_type": "code",
   "execution_count": 7,
   "metadata": {
    "scrolled": true
   },
   "outputs": [
    {
     "data": {
      "image/png": "[encoded data removed]",
      "text/plain": [
       "<Figure size 432x288 with 1 Axes>"
      ]
     },
     "metadata": {
      "needs_background": "light"
     },
     "output_type": "display_data"
    }
   ],
   "source": [
    "%matplotlib inline\n",
    "import matplotlib.pyplot as plt\n",
    "\n",
    "Pnw = pyecl.get_Pnowiggle(k)\n",
    "\n",
    "plt.plot(k, res[\"dd\"]/Pnw, label=\"$P_{\\delta \\delta} (k)$\")\n",
    "plt.plot(k, res[\"dt\"]/Pnw, label=\"$P_{\\delta \\delta} (k)$\")\n",
    "plt.plot(k, res[\"tt\"]/Pnw, label=\"$P_{\\theta \\theta} (k)$\")\n",
    "\n",
    "plt.xlabel(r\"$k \\, [h \\, \\mathrm{Mpc}^{-1}]$\")\n",
    "plt.ylabel(r\"$P^\\mathrm{RegPT} (k) / P_\\mathrm{nw} (k)$\")\n",
    "plt.grid()"
   ]
  }
 ],
 "metadata": {
  "kernelspec": {
   "display_name": "Python 2",
   "language": "python",
   "name": "python2"
  },
  "language_info": {
   "codemirror_mode": {
    "name": "ipython",
    "version": 2
   },
   "file_extension": ".py",
   "mimetype": "text/x-python",
   "name": "python",
   "nbconvert_exporter": "python",
   "pygments_lexer": "ipython2",
   "version": "2.7.15"
  }
 },
 "nbformat": 4,
 "nbformat_minor": 2
}
