{
 "cells": [
  {
   "cell_type": "markdown",
   "metadata": {},
   "source": [
    "# Tutorial\n",
    "In this notebook, I review basic usage of our python wrapper.  "
   ]
  },
  {
   "cell_type": "markdown",
   "metadata": {},
   "source": [
    "## 0. Compile python wrapper\n",
    "First of all, you need to compile the python wrapper.\n",
    "It needs C++ compiler, GSL, and Boost library.\n",
    "Please make sure that yout Boost library has numpy extension since older versions of Boost do not include it.  \n",
    "After specifying paths for these libarary in Makefile, you can just type\n",
    "\n",
    "```\n",
    "$ make pyeclairs\n",
    "```\n",
    "\n",
    "Then, the shared library `pyeclairs.so` is created. When you use the wrapper, please place this library to the directory where you run the script or a path where the interpreter can find it."
   ]
  },
  {
   "cell_type": "markdown",
   "metadata": {},
   "source": [
    "## 1. Computing power spectra based on RegPT 2loop\n",
    "The basic feature of this code is computing matter power spectra for arbitrary cosmology. \n",
    "This function needs transfer function, which can be passed from a precomputed table or numpy array computed with other codes, e.g., CAMB or CLASS.  \n",
    "Here, I use CAMB module to create transfer function."
   ]
  },
  {
   "cell_type": "code",
   "execution_count": 1,
   "metadata": {},
   "outputs": [],
   "source": [
    "# import necessary modules\n",
    "import numpy as np\n",
    "import camb\n",
    "import pyeclairs"
   ]
  },
  {
   "cell_type": "code",
   "execution_count": 2,
   "metadata": {},
   "outputs": [],
   "source": [
    "# cosmological parameters\n",
    "params = {\"H0\": 67.27,\n",
    "          \"Omega_m\": 0.3156,\n",
    "          \"Omega_b\": 0.04917,\n",
    "          \"ns\": 0.9645,\n",
    "          \"As\": 2.2e-9,\n",
    "          \"k_pivot\": 0.05,\n",
    "          \"z\": 1.0\n",
    "          }"
   ]
  },
  {
   "cell_type": "code",
   "execution_count": 3,
   "metadata": {},
   "outputs": [],
   "source": [
    "# setting cosmological parameters to pass CAMB module\n",
    "pars = camb.CAMBparams()\n",
    "H0 = params[\"H0\"]\n",
    "ombh2 = params[\"Omega_b\"]*(H0/100.0)**2\n",
    "omch2 = (params[\"Omega_m\"]-params[\"Omega_b\"])*(H0/100.0)**2\n",
    "As = params[\"As\"]\n",
    "ns = params[\"ns\"]\n",
    "k_pivot = params[\"k_pivot\"]\n",
    "\n",
    "pars.set_cosmology(H0=H0, ombh2=ombh2, omch2=omch2, mnu=0.06, omk=0.0)\n",
    "pars.set_dark_energy()  # lambda CDM assumed\n",
    "pars.InitPower.set_params(As=As, ns=ns, r=0, pivot_scalar=k_pivot)\n",
    "pars.set_matter_power(redshifts=[params[\"z\"], 0.0], kmax=50.0)\n",
    "pars.NonLinear = camb.model.NonLinear_none\n",
    "pars.DoLensing = False"
   ]
  },
  {
   "cell_type": "code",
   "execution_count": 4,
   "metadata": {},
   "outputs": [],
   "source": [
    "# main calculation for CAMB\n",
    "results = camb.get_results(pars)\n",
    "kh, z, pk = results.get_matter_power_spectrum(minkh=1e-4, maxkh=11.0, npoints=500)\n",
    "\n",
    "transfer_result = results.get_matter_transfer_data()\n",
    "q = transfer_result.transfer_data[0, :, 1]  # wave number [h/Mpc]\n",
    "Tk = transfer_result.transfer_data[6, :, 1]  # total transfer\n",
    "\n",
    "q = np.array(q, dtype=np.float64)\n",
    "Tk = np.array(Tk, dtype=np.float64)"
   ]
  },
  {
   "cell_type": "markdown",
   "metadata": {},
   "source": [
    "You can skip these calculations if you have already computed transfer function.  \n",
    "In this case, you should load tabulated data as ndarray with `np.loadtxt`."
   ]
  },
  {
   "cell_type": "code",
   "execution_count": 5,
   "metadata": {},
   "outputs": [],
   "source": [
    "# loading pyeclairs module and setting cosmological parameters for python wrapper\n",
    "spectrum = pyeclairs.pyspectrum()\n",
    "spectrum.set_cosmology(params, q, Tk)"
   ]
  },
  {
   "cell_type": "markdown",
   "metadata": {},
   "source": [
    "Then specify the wavenumbers to be output."
   ]
  },
  {
   "cell_type": "code",
   "execution_count": 6,
   "metadata": {},
   "outputs": [
    {
     "name": "stdout",
     "output_type": "stream",
     "text": [
      "[0.01 0.02 0.03 0.04 0.05 0.06 0.07 0.08 0.09 0.1  0.11 0.12 0.13 0.14\n",
      " 0.15 0.16 0.17 0.18 0.19 0.2  0.21 0.22 0.23 0.24 0.25 0.26 0.27 0.28\n",
      " 0.29 0.3 ] [8370.53301717 9148.22482941 7494.65397333 5763.95189106 4688.30742112\n",
      " 4107.52877961 3649.33574558 3111.43204449 2554.53899751 2120.78917718\n",
      " 1854.86677267 1704.15075428 1574.18299082 1417.57910378 1247.61099714\n",
      " 1099.79606091  995.33498175  925.58340503  868.92301217  809.60885821\n",
      "  743.4250724   681.5876298   629.69002623  588.50611162  554.08281002\n",
      "  520.61663791  487.34961521  454.19822006  423.97506436  396.54285879]\n"
     ]
    }
   ],
   "source": [
    "# This is main calculation. As it may take time, you can reduce the number of k by speeding up.\n",
    "k = np.linspace(0.01, 0.3, 30)\n",
    "Preg2loop = spectrum.calc_RegPT_2loop(k)\n",
    "print k, Preg2loop"
   ]
  },
  {
   "cell_type": "markdown",
   "metadata": {},
   "source": [
    "Now the power spectrum is stored as ndarray `Preg2loop`.  \n",
    "Let's plot it with matplotlib."
   ]
  },
  {
   "cell_type": "code",
   "execution_count": 7,
   "metadata": {
    "scrolled": true
   },
   "outputs": [
    {
     "data": {
      "image/png": "[encoded data removed]",
      "text/plain": [
       "<Figure size 432x288 with 1 Axes>"
      ]
     },
     "metadata": {
      "needs_background": "light"
     },
     "output_type": "display_data"
    }
   ],
   "source": [
    "%matplotlib inline\n",
    "import matplotlib.pyplot as plt\n",
    "\n",
    "Pnowiggle = spectrum.calc_no_wiggle(k)\n",
    "plt.plot(k, Preg2loop/Pnowiggle)\n",
    "plt.xlabel(r\"$k \\, [h \\, \\mathrm{Mpc}^{-1}]$\")\n",
    "plt.ylabel(r\"$P_\\mathrm{RegPT} (k) / P_\\mathrm{nw} (k)$\")\n",
    "plt.grid()"
   ]
  },
  {
   "cell_type": "markdown",
   "metadata": {},
   "source": [
    "## 2. Computing power spectra based on IR-resummed EFT\n",
    "The module also provides the calculation with smoothed linear power spectrum.  \n",
    "Here, I will show how to construct power spectrum based on IR-resummed EFT at 2-loop level."
   ]
  },
  {
   "cell_type": "code",
   "execution_count": 8,
   "metadata": {},
   "outputs": [],
   "source": [
    "P2loop = spectrum.calc_SPT_2loop(k)\n",
    "P1loop = spectrum.calc_SPT_1loop(k)\n",
    "Plin = spectrum.calc_linear(k)\n",
    "\n",
    "# create another class for smoothed spectra\n",
    "smoothed_spectrum = pyeclairs.pyspectrum()\n",
    "params[\"smoothing\"] = True\n",
    "smoothed_spectrum.set_cosmology(params, q, Tk)\n",
    "\n",
    "# spectra with smoothed linear power spectrum\n",
    "P2loop_nw = smoothed_spectrum.calc_SPT_2loop(k)\n",
    "P1loop_nw = smoothed_spectrum.calc_SPT_1loop(k)\n",
    "Plin_nw = smoothed_spectrum.calc_linear(k)"
   ]
  },
  {
   "cell_type": "code",
   "execution_count": 9,
   "metadata": {},
   "outputs": [],
   "source": [
    "dP2loop = P2loop-P1loop\n",
    "dP1loop = P1loop-Plin\n",
    "\n",
    "dP2loop_nw = P2loop_nw-P1loop_nw\n",
    "dP1loop_nw = P1loop_nw-Plin_nw\n",
    "\n",
    "dP2loop_w = dP2loop-dP2loop_nw\n",
    "dP1loop_w = dP1loop-dP1loop_nw\n",
    "Plin_w = Plin-Plin_nw"
   ]
  },
  {
   "cell_type": "code",
   "execution_count": 10,
   "metadata": {},
   "outputs": [],
   "source": [
    "# determine free parameters in IR-resummed EFT\n",
    "alpha1 = 1.0\n",
    "alpha2 = 5.0\n",
    "Sigma = 4.0\n",
    "\n",
    "C1 = k**2*Sigma**2*(1.0+alpha1*k**2) + 0.5*k**4*Sigma**4\n",
    "C2 = k**2*Sigma**2*(1.0+alpha2*k**2)\n",
    "\n",
    "\n",
    "Pnw = (1.0+alpha1*k**2)*Plin_nw + (1.0+alpha2*k**2)*dP1loop_nw + dP2loop_nw\n",
    "Pw = np.exp(-k**2*Sigma**2)*((1.0+alpha1*k**2+C1)*Plin_w + (1.0+alpha2*k**2+C2)*dP1loop_w + dP2loop_w)\n",
    "\n",
    "P_IREFT = Pw + Pnw"
   ]
  },
  {
   "cell_type": "code",
   "execution_count": 11,
   "metadata": {},
   "outputs": [
    {
     "data": {
      "image/png": "[encoded data removed]",
      "text/plain": [
       "<Figure size 432x288 with 1 Axes>"
      ]
     },
     "metadata": {
      "needs_background": "light"
     },
     "output_type": "display_data"
    }
   ],
   "source": [
    "# plot results\n",
    "plt.plot(k, P_IREFT/Pnowiggle)\n",
    "plt.xlabel(r\"$k \\, [h \\, \\mathrm{Mpc}^{-1}]$\")\n",
    "plt.ylabel(r\"$P_\\mathrm{IREFT} (k) / P_\\mathrm{nw} (k)$\")\n",
    "plt.grid()"
   ]
  }
 ],
 "metadata": {
  "kernelspec": {
   "display_name": "Python 2",
   "language": "python",
   "name": "python2"
  },
  "language_info": {
   "codemirror_mode": {
    "name": "ipython",
    "version": 2
   },
   "file_extension": ".py",
   "mimetype": "text/x-python",
   "name": "python",
   "nbconvert_exporter": "python",
   "pygments_lexer": "ipython2",
   "version": "2.7.15"
  }
 },
 "nbformat": 4,
 "nbformat_minor": 2
}
